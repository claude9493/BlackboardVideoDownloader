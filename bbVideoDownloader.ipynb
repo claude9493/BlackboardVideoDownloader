{
 "cells": [
  {
   "cell_type": "markdown",
   "metadata": {},
   "source": [
    "# Blackboard Video Downloader\n",
    "\n",
    "Some videos on Blackboard Platform is not explicit \"downloadable\", their links usually look like the following marked link.\n",
    "![](./fig/VideoLinkSS.png)\n",
    "\n",
    "Sometimes it’s time-consuming to load this kind videos, this program is designed to download them.\n",
    "\n",
    "Before executing it, you need to find a source link by following steps.\n",
    "\n",
    "1. Open video\n",
    "![](./fig/VideoSS.png)\n",
    "2. Right click and open inspect (DevTools)\n",
    "![](./fig/RightClickSS.png)\n",
    "3. Find the source link\n",
    "![](./fig/DevtoolsSS.png)"
   ]
  },
  {
   "cell_type": "markdown",
   "metadata": {},
   "source": [
    "Once got the source link, replace the url variable in next cell with this one and delete the 'video.m3u8' at the end of the link. And rename the vname variable.\n",
    "\n",
    "Then execute all following cells and wait till the * asterisk symbol disappear."
   ]
  },
  {
   "cell_type": "code",
   "execution_count": 50,
   "metadata": {},
   "outputs": [],
   "source": [
    "import requests\n",
    "vname = 'Class3.ts' # Rename it\n",
    "url = 'http://tao-video.sustech.edu.cn:10080/fvod/blackboard/ySv9AHlZg/' # Replace it"
   ]
  },
  {
   "cell_type": "code",
   "execution_count": 51,
   "metadata": {},
   "outputs": [],
   "source": [
    "# Video Features\n",
    "prefix = 'video'\n",
    "suffix = 'ts'\n",
    "s_index = 0\n",
    "e_index = 200\n",
    "\n",
    "# Set a high end index, and check the size of downloaded content once got\n",
    "# stop downloading when find empty content"
   ]
  },
  {
   "cell_type": "code",
   "execution_count": 52,
   "metadata": {},
   "outputs": [],
   "source": [
    "# Download Videos into one File\n",
    "for index in range(s_index, e_index+1):\n",
    "    vlink = '%s%s%d.%s'%(url, prefix, index, suffix)\n",
    "    v = requests.get(vlink)\n",
    "    if len(v.content) == 0:\n",
    "        break\n",
    "    with open(vname, 'ab') as f:\n",
    "        f.write(v.content)"
   ]
  },
  {
   "cell_type": "raw",
   "metadata": {},
   "source": [
    "# Download Videos Separately\n",
    "for index in range(s_index, e_index+1):\n",
    "    vlink = '%s%s%d.%s'%(url, prefix, index, suffix)\n",
    "    v = requests.get(vlink)\n",
    "    with open('./%s%d.%s'%(prefix, index, suffix), 'wb') as f:\n",
    "        f.write(v.content)"
   ]
  }
 ],
 "metadata": {
  "kernelspec": {
   "display_name": "Python 3",
   "language": "python",
   "name": "python3"
  },
  "language_info": {
   "codemirror_mode": {
    "name": "ipython",
    "version": 3
   },
   "file_extension": ".py",
   "mimetype": "text/x-python",
   "name": "python",
   "nbconvert_exporter": "python",
   "pygments_lexer": "ipython3",
   "version": "3.7.3"
  }
 },
 "nbformat": 4,
 "nbformat_minor": 2
}
